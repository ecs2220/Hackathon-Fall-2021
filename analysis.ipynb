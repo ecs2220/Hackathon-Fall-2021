{
 "cells": [
  {
   "cell_type": "markdown",
   "source": [
    "# Analysis of Data\n",
    "\n",
    "Plotting time!!!\n",
    "\n",
    "Twitter Data Format:\n",
    "- tweet_id: int\n",
    "- date: str (MM-DD-YYYY)\n",
    "- epochtime: long (in milliseconds)\n",
    "- content: str \n",
    "- hashtags: list(string)\n",
    "- like_count: int\n",
    "- retweet_count: int\n",
    "- reply_count: int\n",
    "- user: str\n",
    "- is_reply: boolean\n",
    "- real_or_fake: boolean\n",
    "- news_or_claim: boolean\n",
    "- \\+\n",
    "- real_or_fake\n",
    "- date\n",
    "- claim_id\n",
    "- tweet_id\n",
    "- **or**\n",
    "- news_id\n",
    "- date\n",
    "- real_or_fake\n",
    "- tweet_id"
   ],
   "metadata": {}
  },
  {
   "cell_type": "markdown",
   "source": [
    "## Claim Analysis:\n",
    "Can refuting fake news make a difference over time?"
   ],
   "metadata": {}
  },
  {
   "cell_type": "code",
   "execution_count": 3,
   "source": [
    "import numpy as np\n",
    "import pandas as pd\n",
    "\n",
    "import matplotlib.pyplot as plt\n",
    "import seaborn as sns"
   ],
   "outputs": [],
   "metadata": {}
  },
  {
   "cell_type": "code",
   "execution_count": null,
   "source": [
    "df_claim_twitter = pd.read_csv(\"\")"
   ],
   "outputs": [],
   "metadata": {}
  },
  {
   "cell_type": "code",
   "execution_count": null,
   "source": [
    "# Count of real and fake tweets per day sumed over all claims\n",
    "# Also relative plots\n",
    "\n",
    "\n",
    "\n",
    "sns.set_theme(style=\"whitegrid\")\n",
    "ax = sns.barplot(x=\"Day\", y=\"Frequency\", data=tips)\n",
    "plt.title('Frequency of Real and Fake Tweets for all Claims per Day')"
   ],
   "outputs": [],
   "metadata": {}
  },
  {
   "cell_type": "code",
   "execution_count": null,
   "source": [
    "sns.set_theme(style=\"whitegrid\")\n",
    "ax = sns.barplot(x=\"Day\", y=\"Frequency\", data=tips)\n",
    "plt.title('Relative Frequency of Real and Fake Tweets for all Claims per Day')"
   ],
   "outputs": [],
   "metadata": {}
  },
  {
   "cell_type": "code",
   "execution_count": null,
   "source": [
    "# Count of real and fake tweets per claim\n",
    "# Also relative plots\n",
    "\n",
    "sns.set_theme(style=\"whitegrid\")\n",
    "ax = sns.barplot(x=\"Day\", y=\"Frequency\", data=tips)\n",
    "plt.title('Relative Frequency of Real and Fake Tweets for all Claims per Day')"
   ],
   "outputs": [],
   "metadata": {}
  },
  {
   "cell_type": "code",
   "execution_count": null,
   "source": [
    "# Real and fake tweets average likes over time\n",
    "# Real and fake tweets average retweets over time"
   ],
   "outputs": [],
   "metadata": {}
  },
  {
   "cell_type": "markdown",
   "source": [
    "## News Analysis:\n",
    "Comparing the spread of real and fake news."
   ],
   "metadata": {}
  },
  {
   "cell_type": "code",
   "execution_count": null,
   "source": [
    "# For the top x real and fake news, compare the relative frequency of posts over time\n",
    "# For the top x real and fake news, compare the number of likes over time\n",
    "# For the top x real and fake news, compare the number of retweets over time"
   ],
   "outputs": [],
   "metadata": {}
  }
 ],
 "metadata": {
  "orig_nbformat": 4,
  "language_info": {
   "name": "python",
   "version": "3.8.3",
   "mimetype": "text/x-python",
   "codemirror_mode": {
    "name": "ipython",
    "version": 3
   },
   "pygments_lexer": "ipython3",
   "nbconvert_exporter": "python",
   "file_extension": ".py"
  },
  "kernelspec": {
   "name": "python3",
   "display_name": "Python 3.8.3 64-bit ('base': conda)"
  },
  "interpreter": {
   "hash": "72feb122fca61636127e7194cba100bbfb85a485da5e26a835360b692f4b0926"
  }
 },
 "nbformat": 4,
 "nbformat_minor": 2
}