{
 "cells": [
  {
   "cell_type": "markdown",
   "source": [
    "# Plotting Twitter Data and News Data\n",
    "\n",
    "Starting with Just Claims:\n",
    "- Daily occurances of real and fake\n",
    "- Daily occurances weighted by likes/reposts\n",
    "- Exploratory data analysis on this data\n",
    "\n",
    "Find way to relate claims to news and analyze impact of news articles as well as tweets:\n",
    "- IDK TBD maybe even just had pick some articles"
   ],
   "metadata": {}
  }
 ],
 "metadata": {
  "orig_nbformat": 4,
  "language_info": {
   "name": "python"
  }
 },
 "nbformat": 4,
 "nbformat_minor": 2
}