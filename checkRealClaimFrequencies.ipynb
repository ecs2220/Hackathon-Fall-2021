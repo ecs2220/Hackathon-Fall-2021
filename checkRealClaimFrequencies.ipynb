{
 "cells": [
  {
   "cell_type": "markdown",
   "source": [
    "# Checking Real Claim Frequencies"
   ],
   "metadata": {}
  },
  {
   "cell_type": "code",
   "execution_count": 63,
   "source": [
    "import pandas as pd"
   ],
   "outputs": [],
   "metadata": {}
  },
  {
   "cell_type": "markdown",
   "source": [
    "## Claim"
   ],
   "metadata": {}
  },
  {
   "cell_type": "code",
   "execution_count": 64,
   "source": [
    "df_claim_articles = pd.read_csv(\"data/unifiedCSVs/raw_claim_articles.csv\")\n",
    "df_claim_twitter = pd.read_csv(\"data/unifiedCSVs/raw_claim_twitter.csv\")"
   ],
   "outputs": [],
   "metadata": {}
  },
  {
   "cell_type": "code",
   "execution_count": 65,
   "source": [
    "# Fake\n",
    "df_claim_twitter_fake_subset = df_claim_twitter[df_claim_twitter[\"real_or_fake\"] == \"fake\"]\n",
    "\n",
    "count = df_claim_twitter_fake_subset[\"claim_id\"].value_counts()\n",
    "valid_claim_ids = count.index.tolist()[1:13]\n",
    "\n",
    "df_claim_twitter_fake_subset = df_claim_twitter_fake_subset[df_claim_twitter_fake_subset[\"claim_id\"].isin(valid_claim_ids)]\n",
    "\n",
    "print(f\"Fake subset length: {df_claim_twitter_fake_subset.shape[0]}\")\n",
    "\n",
    "# Real\n",
    "df_claim_twitter_real_subset = df_claim_twitter[df_claim_twitter[\"real_or_fake\"] == \"real\"]\n",
    "\n",
    "count = df_claim_twitter_real_subset[\"claim_id\"].value_counts()\n",
    "valid_claim_ids = count.index.tolist()[:10]\n",
    "\n",
    "df_claim_twitter_real_subset = df_claim_twitter_real_subset[df_claim_twitter_real_subset[\"claim_id\"].isin(valid_claim_ids)]\n",
    "\n",
    "print(f\"Real subset length: {df_claim_twitter_real_subset.shape[0]}\")\n",
    "\n",
    "df_claim_twitter_fake_subset.append(df_claim_twitter_real_subset).to_csv(\"data/toPull/claim_twitter_ids.csv\", index=False)"
   ],
   "outputs": [
    {
     "output_type": "stream",
     "name": "stdout",
     "text": [
      "Fake subset length: 235\n",
      "Real subset length: 9012\n"
     ]
    }
   ],
   "metadata": {}
  },
  {
   "cell_type": "markdown",
   "source": [
    "## News"
   ],
   "metadata": {}
  },
  {
   "cell_type": "code",
   "execution_count": 66,
   "source": [
    "df_news_articles = pd.read_csv(\"data/unifiedCSVs/raw_news_articles.csv\")\n",
    "df_news_twitter = pd.read_csv(\"data/unifiedCSVs/raw_news_twitter.csv\")"
   ],
   "outputs": [],
   "metadata": {}
  },
  {
   "cell_type": "code",
   "execution_count": 69,
   "source": [
    "# Fake\n",
    "df_news_twitter_fake_subset = df_news_twitter[df_news_twitter[\"real_or_fake\"] == \"fake\"]\n",
    "\n",
    "count = df_news_twitter_fake_subset[\"news_id\"].value_counts()\n",
    "\n",
    "valid_news_ids = count.index.tolist()[:10]\n",
    "\n",
    "df_news_twitter_fake_subset = df_news_twitter_fake_subset[df_news_twitter_fake_subset[\"news_id\"].isin(valid_news_ids)]\n",
    "\n",
    "print(f\"Fake subset length: {df_news_twitter_fake_subset.shape[0]}\")\n",
    "\n",
    "# Real\n",
    "df_news_twitter_real_subset = df_news_twitter[df_news_twitter[\"real_or_fake\"] == \"real\"]\n",
    "\n",
    "count = df_news_twitter_real_subset[\"news_id\"].value_counts()\n",
    "valid_news_ids = count.index.tolist()[:10]\n",
    "\n",
    "df_news_twitter_real_subset = df_news_twitter_real_subset[df_news_twitter_real_subset[\"news_id\"].isin(valid_news_ids)]\n",
    "\n",
    "print(f\"Real subset length: {df_news_twitter_real_subset.shape[0]}\")\n",
    "\n",
    "df_news_twitter_fake_subset.append(df_news_twitter_real_subset).to_csv(\"data/toPull/news_twitter_ids.csv\", index=False)"
   ],
   "outputs": [
    {
     "output_type": "stream",
     "name": "stdout",
     "text": [
      "Fake subset length: 8359\n",
      "Real subset length: 18399\n"
     ]
    }
   ],
   "metadata": {}
  }
 ],
 "metadata": {
  "orig_nbformat": 4,
  "language_info": {
   "name": "python",
   "version": "3.8.3",
   "mimetype": "text/x-python",
   "codemirror_mode": {
    "name": "ipython",
    "version": 3
   },
   "pygments_lexer": "ipython3",
   "nbconvert_exporter": "python",
   "file_extension": ".py"
  },
  "kernelspec": {
   "name": "python3",
   "display_name": "Python 3.8.3 64-bit ('base': conda)"
  },
  "interpreter": {
   "hash": "72feb122fca61636127e7194cba100bbfb85a485da5e26a835360b692f4b0926"
  }
 },
 "nbformat": 4,
 "nbformat_minor": 2
}